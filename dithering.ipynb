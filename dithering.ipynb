{
 "cells": [
  {
   "cell_type": "code",
   "execution_count": 1,
   "metadata": {},
   "outputs": [],
   "source": [
    "from PIL import Image\n",
    "import random\n",
    "import cv2\n",
    "import numpy as np"
   ]
  },
  {
   "cell_type": "markdown",
   "metadata": {},
   "source": [
    "## Código para cambiar la resolución de la imagen  "
   ]
  },
  {
   "cell_type": "code",
   "execution_count": null,
   "metadata": {},
   "outputs": [],
   "source": [
    "# Imagen original\n",
    "im = Image.open(\"nombre_de_imagen.jpg\")\n",
    "orig_size = im.size\n",
    "w,h = im.size\n",
    "im.show()\n",
    "\n",
    "scale = 1/10\n",
    "\n",
    "new_w = round(w*scale)\n",
    "new_h = round(h*scale)\n",
    "new_img = im.thumbnail([new_w, new_h])\n",
    "#im.show()\n",
    "\n",
    "#new_img = im.transform(orig_size, Image.EXTENT, (0,0, new_w-1, new_h-1))\n",
    "#new_img.save(\"low_rewsolution.png\")\n",
    "#new_img.show()"
   ]
  },
  {
   "cell_type": "markdown",
   "metadata": {},
   "source": [
    "## Cargar la imagen para poder aplicar Dithering"
   ]
  },
  {
   "cell_type": "code",
   "execution_count": 12,
   "metadata": {},
   "outputs": [],
   "source": [
    "input_image = cv2.imread('nombre_de_imagen.png')\n",
    "gray_image=cv2.cvtColor(input_image,cv2.COLOR_BGR2GRAY)"
   ]
  },
  {
   "cell_type": "code",
   "execution_count": 13,
   "metadata": {},
   "outputs": [],
   "source": [
    "cv2.imshow('Original image', input_image)\n",
    "cv2.waitKey(0)\n",
    "cv2.destroyAllWindows()"
   ]
  },
  {
   "cell_type": "markdown",
   "metadata": {},
   "source": [
    "## Imagen con valores 0 o 1"
   ]
  },
  {
   "cell_type": "code",
   "execution_count": 14,
   "metadata": {},
   "outputs": [
    {
     "data": {
      "text/plain": [
       "True"
      ]
     },
     "execution_count": 14,
     "metadata": {},
     "output_type": "execute_result"
    }
   ],
   "source": [
    "#Cambiar a imagen de un bit, si es menor que el umbral 127 es negro, en otro caso es blanco\n",
    "_, black_and_white_image = cv2.threshold(gray_image, 127, 255, cv2.THRESH_BINARY)\n",
    "\n",
    "# Resultado\n",
    "cv2.imshow('Black and White Image', black_and_white_image)\n",
    "cv2.waitKey(0)\n",
    "cv2.destroyAllWindows()\n",
    "cv2.imwrite('nombre_para_guardar.png',black_and_white_image)"
   ]
  },
  {
   "cell_type": "markdown",
   "metadata": {},
   "source": [
    "## Dithering aleatorio"
   ]
  },
  {
   "cell_type": "code",
   "execution_count": 15,
   "metadata": {},
   "outputs": [
    {
     "data": {
      "text/plain": [
       "True"
      ]
     },
     "execution_count": 15,
     "metadata": {},
     "output_type": "execute_result"
    }
   ],
   "source": [
    "#Cambia la imagen tipo numpy a un objeto image utilizado por PIL\n",
    "gray_image_pil = Image.fromarray(gray_image)\n",
    "\n",
    "# Crear una nueva imagen para la salida con dithering, la imagen esta vacia\n",
    "dithered_im = Image.new('L', gray_image_pil.size)\n",
    "\n",
    "# Obtener el tamaño de la imagen\n",
    "width, height = gray_image_pil.size\n",
    "\n",
    "# Aplicar dithering aleatorio\n",
    "for x in range(width):\n",
    "    for y in range(height):\n",
    "        gray = gray_image_pil.getpixel((x, y)) #Obtiene el valor de gris en la posición actual\n",
    "        # Aplicar ruido aleatorio\n",
    "        noisy_gray = gray + random.randint(-128, 127) #Aplica el riudo aleatorio\n",
    "        # Asegurarse de que el valor esté dentro del rango válido\n",
    "        noisy_gray = max(0, min(255, noisy_gray))\n",
    "        dithered_im.putpixel((x, y), noisy_gray) #Establece el valor en la nueva imagen\n",
    "\n",
    "# Convertir la imagen dithered de PIL a NumPy para mostrarla con OpenCV\n",
    "im_dithered_np = np.array(dithered_im)\n",
    "\n",
    "# Mostrar la imagen con dithering\n",
    "cv2.imshow('Random dither', im_dithered_np)\n",
    "cv2.waitKey(0)\n",
    "cv2.destroyAllWindows()\n",
    "cv2.imwrite('nombre_para_guardar.png',im_dithered_np)"
   ]
  },
  {
   "cell_type": "markdown",
   "metadata": {},
   "source": [
    "## Dithering ordenado 2x2"
   ]
  },
  {
   "cell_type": "code",
   "execution_count": 16,
   "metadata": {},
   "outputs": [
    {
     "data": {
      "text/plain": [
       "True"
      ]
     },
     "execution_count": 16,
     "metadata": {},
     "output_type": "execute_result"
    }
   ],
   "source": [
    "bayer_matrix = np.array([\n",
    "    [3, 1],\n",
    "    [0, 2]\n",
    "]) / 4.0 #Escalar entre 0 y 1\n",
    "# Obtener las dimensiones de la imagen\n",
    "height, width = gray_image.shape\n",
    "\n",
    "# Crear una nueva imagen PIL para el resultado\n",
    "im_dithered = Image.new('L', (width, height))\n",
    "\n",
    "# Aplicar dithering ordenado\n",
    "for y in range(height):\n",
    "    for x in range(width):\n",
    "        gray = gray_image[y, x] #Obitene el valor en la posición actual\n",
    "        threshold = bayer_matrix[y % 2, x % 2] * 255 #Multiplica por el valor de la matriz\n",
    "        #correspondiente y lo escala en un rango de 0 a 255\n",
    "        bw = 255 if gray > threshold else 0 #Umbral para determinar si es 0 o 1\n",
    "        im_dithered.putpixel((x, y), bw) #Agrega el valor a la posición actual\n",
    "\n",
    "# Convertir la imagen PIL a un array de NumPy para usar con OpenCV\n",
    "im_dithered_np = np.array(im_dithered)\n",
    "\n",
    "# Mostrar la imagen usando OpenCV\n",
    "cv2.imshow(\"Imagen\", im_dithered_np)\n",
    "cv2.waitKey(0)\n",
    "cv2.destroyAllWindows()\n",
    "cv2.imwrite('nombre_para_guardar.png',im_dithered_np)"
   ]
  },
  {
   "cell_type": "markdown",
   "metadata": {},
   "source": [
    "## Dithering ordenado 4x4"
   ]
  },
  {
   "cell_type": "code",
   "execution_count": 17,
   "metadata": {},
   "outputs": [
    {
     "data": {
      "text/plain": [
       "True"
      ]
     },
     "execution_count": 17,
     "metadata": {},
     "output_type": "execute_result"
    }
   ],
   "source": [
    "#Es igual que el anterior, solo con la matriz de 4x4\n",
    "# Matriz de Bayer 4x4\n",
    "bayer_matrix = np.array([\n",
    "    [15,7,13,5],\n",
    "    [3,11,1,9],\n",
    "    [12,4,14,6],\n",
    "    [0,8,2,10]\n",
    "]) / 16.0\n",
    "height, width = gray_image.shape\n",
    "\n",
    "# Crear una nueva imagen PIL para el resultado\n",
    "im_dithered = Image.new('L', (width, height))\n",
    "\n",
    "# Aplicar dithering ordenado\n",
    "for y in range(height):\n",
    "    for x in range(width):\n",
    "        gray = gray_image[y, x]\n",
    "        threshold = bayer_matrix[y % 4, x % 4] * 255\n",
    "        bw = 255 if gray > threshold else 0\n",
    "        im_dithered.putpixel((x, y), bw)\n",
    "\n",
    "# Convertir la imagen PIL a un array de NumPy para usar con OpenCV\n",
    "im_dithered_np = np.array(im_dithered)\n",
    "\n",
    "# Mostrar la imagen usando OpenCV\n",
    "cv2.imshow(\"Imagen\", im_dithered_np)\n",
    "cv2.waitKey(0)\n",
    "cv2.destroyAllWindows()\n",
    "cv2.imwrite('nombre_para_guardar.png',im_dithered_np)"
   ]
  },
  {
   "cell_type": "markdown",
   "metadata": {},
   "source": [
    "## Dithering con difusión del error de Floyd-Steinberg"
   ]
  },
  {
   "cell_type": "code",
   "execution_count": 18,
   "metadata": {},
   "outputs": [
    {
     "data": {
      "text/plain": [
       "True"
      ]
     },
     "execution_count": 18,
     "metadata": {},
     "output_type": "execute_result"
    }
   ],
   "source": [
    "#Convierte la imagen a un formato Image\n",
    "gray_image_pil = Image.fromarray(gray_image)\n",
    "#La convierte en un array de numpy\n",
    "pixels = np.array(gray_image_pil, dtype=np.float32)\n",
    "\n",
    "# Definir la matriz de difusión de Floyd-Steinberg para distribuir los valores\n",
    "diffusion_matrix = np.array([[0, 0, 7],\n",
    "                                [3, 5, 1]]) / 16.0\n",
    "\n",
    "# Obtener las dimensiones de la imagen\n",
    "height, width = pixels.shape\n",
    "\n",
    "for y in range(height):\n",
    "    for x in range(width):\n",
    "        old_pixel = pixels[y, x] #Guarda el valor original del pixel\n",
    "        new_pixel = 255 if old_pixel > 127 else 0 #Umbral para determinar 0 o 1\n",
    "        pixels[y, x] = new_pixel #Se actualiza el valor del pixel\n",
    "        error = old_pixel - new_pixel #Calcula la diferencia del valor original al nuevo valor para distribuirlo\n",
    "        \n",
    "        # Distribuir el error a los píxeles vecinos\n",
    "        for dy in range(2):\n",
    "            for dx in range(-1, 2):\n",
    "                if 0 <= x + dx < width and 0 <= y + dy < height: #verifica que el los pixeles esten dentro del trango\n",
    "                    pixels[y + dy, x + dx] += error * diffusion_matrix[dy, dx + 1] #distribuye el error utilizando la matriz\n",
    "\n",
    "# Convertir los píxeles de vuelta a una imagen PIL\n",
    "dithered_image_pil = Image.fromarray(pixels.astype(np.uint8))\n",
    "\n",
    "# Convertir la imagen dithered de PIL a NumPy para mostrarla con OpenCV\n",
    "dithered_image_np = np.array(dithered_image_pil)\n",
    "\n",
    "# Mostrar la imagen con dithering\n",
    "cv2.imshow('Floyd-Steinberg Dither', dithered_image_np)\n",
    "cv2.waitKey(0)\n",
    "cv2.destroyAllWindows()\n",
    "cv2.imwrite('nombre_para_guardar.png',dithered_image_np)"
   ]
  }
 ],
 "metadata": {
  "kernelspec": {
   "display_name": "Python 3",
   "language": "python",
   "name": "python3"
  },
  "language_info": {
   "codemirror_mode": {
    "name": "ipython",
    "version": 3
   },
   "file_extension": ".py",
   "mimetype": "text/x-python",
   "name": "python",
   "nbconvert_exporter": "python",
   "pygments_lexer": "ipython3",
   "version": "3.11.4"
  }
 },
 "nbformat": 4,
 "nbformat_minor": 2
}
